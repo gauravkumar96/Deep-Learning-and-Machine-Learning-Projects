{
  "nbformat": 4,
  "nbformat_minor": 0,
  "metadata": {
    "colab": {
      "name": "GRU_text.ipynb",
      "provenance": []
    },
    "kernelspec": {
      "name": "python3",
      "display_name": "Python 3"
    },
    "language_info": {
      "name": "python"
    }
  },
  "cells": [
    {
      "cell_type": "code",
      "execution_count": 1,
      "metadata": {
        "colab": {
          "base_uri": "https://localhost:8080/"
        },
        "id": "OfusrupmDS8-",
        "outputId": "27c15234-3b57-479f-b9b4-996c49a2bce4"
      },
      "outputs": [
        {
          "output_type": "stream",
          "name": "stdout",
          "text": [
            "--2022-08-04 23:42:32--  https://www.dropbox.com/s/pdhwlpi2yeie0ol/movie-dataset.zip\n",
            "Resolving www.dropbox.com (www.dropbox.com)... 162.125.2.18, 2620:100:6017:18::a27d:212\n",
            "Connecting to www.dropbox.com (www.dropbox.com)|162.125.2.18|:443... connected.\n",
            "HTTP request sent, awaiting response... 301 Moved Permanently\n",
            "Location: /s/raw/pdhwlpi2yeie0ol/movie-dataset.zip [following]\n",
            "--2022-08-04 23:42:32--  https://www.dropbox.com/s/raw/pdhwlpi2yeie0ol/movie-dataset.zip\n",
            "Reusing existing connection to www.dropbox.com:443.\n",
            "HTTP request sent, awaiting response... 302 Found\n",
            "Location: https://uc42e908383cdc0fdebce7d9dbb3.dl.dropboxusercontent.com/cd/0/inline/BqZQiRq4tLiXQRx55hWtCquAn74MN27c6QG1umsl5N_GpkJhdJ97qLbsWbtYPMpjFvq70odcVwNQ8Kpj5x7TQSK3qlgyqvpOUYAufhKPrB5jOcssBHf29cd-J5u8eUdPP7AX3zcRvf3SC_BsjQOQUG6GHV_zdCz2Tk2uij5rBW4Cvg/file# [following]\n",
            "--2022-08-04 23:42:32--  https://uc42e908383cdc0fdebce7d9dbb3.dl.dropboxusercontent.com/cd/0/inline/BqZQiRq4tLiXQRx55hWtCquAn74MN27c6QG1umsl5N_GpkJhdJ97qLbsWbtYPMpjFvq70odcVwNQ8Kpj5x7TQSK3qlgyqvpOUYAufhKPrB5jOcssBHf29cd-J5u8eUdPP7AX3zcRvf3SC_BsjQOQUG6GHV_zdCz2Tk2uij5rBW4Cvg/file\n",
            "Resolving uc42e908383cdc0fdebce7d9dbb3.dl.dropboxusercontent.com (uc42e908383cdc0fdebce7d9dbb3.dl.dropboxusercontent.com)... 162.125.2.15, 2620:100:6017:15::a27d:20f\n",
            "Connecting to uc42e908383cdc0fdebce7d9dbb3.dl.dropboxusercontent.com (uc42e908383cdc0fdebce7d9dbb3.dl.dropboxusercontent.com)|162.125.2.15|:443... connected.\n",
            "HTTP request sent, awaiting response... 302 Found\n",
            "Location: /cd/0/inline2/BqZOYuvS3V3mvAbSNMzLwhCJRjuaWZcWCGrVRm-zIwHvCnJHRpKckXrh8BWdeOPNAhO746ScNI5p57ndj9odrZAkLsKowxD0SLDBZdJnFjRm2HkFsukfM0s1JEwpM-4OBBa9xqNhllBNBwPFFQ_8qVT-5wDkZZSyR9pKQPU0d7o6sZgf3P7E74CbjoBSZmiE2FK9Cug8FUkYDnvhG93zfXSq0cMjRDCZ1fijyY7hAp91ha1DDWJrM0tI4qLnJp54YBuNyw5CGrsrnnEVOwoKoyM_cZyqjFoxMGX4cFzF96QNik00dXaFGltWR6_ySWX9a7kAscja2oy5jhsbTyliQ6cxB0qqrqxQZRUHaI2c0gHWp3Ldq3FdO7D59Q9b5JOXAW3XSV0bUgcFQ04BYo23fQlS1U1O6-j1tfwF-IVqE-fofQ/file [following]\n",
            "--2022-08-04 23:42:32--  https://uc42e908383cdc0fdebce7d9dbb3.dl.dropboxusercontent.com/cd/0/inline2/BqZOYuvS3V3mvAbSNMzLwhCJRjuaWZcWCGrVRm-zIwHvCnJHRpKckXrh8BWdeOPNAhO746ScNI5p57ndj9odrZAkLsKowxD0SLDBZdJnFjRm2HkFsukfM0s1JEwpM-4OBBa9xqNhllBNBwPFFQ_8qVT-5wDkZZSyR9pKQPU0d7o6sZgf3P7E74CbjoBSZmiE2FK9Cug8FUkYDnvhG93zfXSq0cMjRDCZ1fijyY7hAp91ha1DDWJrM0tI4qLnJp54YBuNyw5CGrsrnnEVOwoKoyM_cZyqjFoxMGX4cFzF96QNik00dXaFGltWR6_ySWX9a7kAscja2oy5jhsbTyliQ6cxB0qqrqxQZRUHaI2c0gHWp3Ldq3FdO7D59Q9b5JOXAW3XSV0bUgcFQ04BYo23fQlS1U1O6-j1tfwF-IVqE-fofQ/file\n",
            "Reusing existing connection to uc42e908383cdc0fdebce7d9dbb3.dl.dropboxusercontent.com:443.\n",
            "HTTP request sent, awaiting response... 200 OK\n",
            "Length: 62951389 (60M) [application/zip]\n",
            "Saving to: ‘movie-dataset.zip’\n",
            "\n",
            "movie-dataset.zip   100%[===================>]  60.03M  63.3MB/s    in 0.9s    \n",
            "\n",
            "2022-08-04 23:42:34 (63.3 MB/s) - ‘movie-dataset.zip’ saved [62951389/62951389]\n",
            "\n"
          ]
        }
      ],
      "source": [
        "!wget https://www.dropbox.com/s/pdhwlpi2yeie0ol/movie-dataset.zip"
      ]
    },
    {
      "cell_type": "code",
      "source": [
        "!unzip -q 'movie-dataset.zip'"
      ],
      "metadata": {
        "id": "HbZnaimSDjzr"
      },
      "execution_count": 2,
      "outputs": []
    },
    {
      "cell_type": "code",
      "source": [
        "from tensorflow.keras.preprocessing import text_dataset_from_directory\n",
        "from tensorflow.strings import regex_replace\n",
        "from tensorflow.keras.layers.experimental.preprocessing import TextVectorization\n",
        "from tensorflow.keras.models import Sequential\n",
        "from tensorflow.keras import Input\n",
        "from tensorflow.keras.layers import Dense, LSTM, SimpleRNNCell, Embedding, Dropout, GRU"
      ],
      "metadata": {
        "id": "vOFbIHACD2Hh"
      },
      "execution_count": 5,
      "outputs": []
    },
    {
      "cell_type": "code",
      "source": [
        "def prepareData(dir):\n",
        "  data = text_dataset_from_directory(dir)\n",
        "  return data.map(\n",
        "      lambda text, label: (regex_replace(text, '<br />',' '), label),)"
      ],
      "metadata": {
        "id": "vW0LKkQGE9kq"
      },
      "execution_count": 4,
      "outputs": []
    },
    {
      "cell_type": "code",
      "source": [
        "train_data = prepareData('movie-reviews-dataset/train')\n",
        "test_data = prepareData('movie-reviews-dataset/test')\n",
        "\n",
        "for text_batch, label_batch in train_data.take(1):\n",
        "  print(text_batch.numpy()[0])\n",
        "  print(label_batch.numpy()[0])"
      ],
      "metadata": {
        "colab": {
          "base_uri": "https://localhost:8080/"
        },
        "id": "hYpb2GqSFhCq",
        "outputId": "3807122f-b38f-4334-dfb5-bc8c450874be"
      },
      "execution_count": 6,
      "outputs": [
        {
          "output_type": "stream",
          "name": "stdout",
          "text": [
            "Found 25000 files belonging to 2 classes.\n",
            "Found 25000 files belonging to 2 classes.\n",
            "b'SNL is pretty funny but people who say this is like watching a Short skit on SNL is a little dumb minded. It\\'s NOTHING like SNL, it\\'s just a stupid piece of crap.  Andy Samberg tries to act like Jon Heder but fails. Although Jon Heder is only funny in Napoleon Dynamite Andy tries his hardest and people think he\\'s funny.  Only funny people in the movie were Danny McBride and Bill Hader. The only part that was decently funny with Andy was the pool part.  They could have made the \"Quiet place\" a lot better if they didn\\'t make the falling scene 3 freaking minutes.  The part where he\\'s pronouncing his H\\'s more is retarded. They try going with it too long and half the time it looks like Andy is laughing while he acts...he\\'s a horrible actor and doesn\\'t deserve to be in a movie.  This movie is a joke and is for the simple minded people with the brain of a 10 year old level of comedy. Which is about half the United States.'\n",
            "0\n"
          ]
        }
      ]
    },
    {
      "cell_type": "code",
      "source": [
        "model = Sequential()\n",
        "model.add(Input(shape=(1,),dtype='string'))"
      ],
      "metadata": {
        "id": "gTokF0QjGEdp"
      },
      "execution_count": 7,
      "outputs": []
    },
    {
      "cell_type": "code",
      "source": [
        "max_tokens = 1000\n",
        "max_len = 100\n",
        "\n",
        "vectorized_layer = TextVectorization(max_tokens = max_tokens,\n",
        "                                     output_mode = 'int',\n",
        "                                     output_sequence_length = max_len,)\n",
        "\n",
        "\n",
        "\n"
      ],
      "metadata": {
        "id": "SWS9r_FCGbcR"
      },
      "execution_count": 8,
      "outputs": []
    },
    {
      "cell_type": "code",
      "source": [
        "train_text = train_data.map(lambda text, label : text)\n",
        "vectorized_layer.adapt(train_text)\n",
        "\n",
        "model.add(vectorized_layer)"
      ],
      "metadata": {
        "id": "mxKt9rE6GzeB"
      },
      "execution_count": 9,
      "outputs": []
    },
    {
      "cell_type": "code",
      "source": [
        "# creating an embedding layer\n",
        "\n",
        "model.add(Embedding(max_tokens + 1, 128))\n",
        "# rnn = RNN(SimpleRNNCell(64), return_sequences = False, return_state = False) # can change it from here\n",
        "model.add(GRU(64))\n",
        "model.add(Dense(64, activation = 'relu'))\n",
        "model.add(Dense(1, activation = 'sigmoid'))"
      ],
      "metadata": {
        "id": "uxRH_TDEHgOp"
      },
      "execution_count": 10,
      "outputs": []
    },
    {
      "cell_type": "code",
      "source": [
        "model.compile(loss = 'binary_crossentropy', optimizer = 'adam', metrics = ['accuracy'])"
      ],
      "metadata": {
        "id": "7t71QjXUIN6r"
      },
      "execution_count": 11,
      "outputs": []
    },
    {
      "cell_type": "code",
      "source": [
        "model.fit(train_data, epochs = 10)"
      ],
      "metadata": {
        "colab": {
          "base_uri": "https://localhost:8080/"
        },
        "id": "5rRhtAOpIuj6",
        "outputId": "056fc436-f2b6-43b2-ec36-082234e8161a"
      },
      "execution_count": 12,
      "outputs": [
        {
          "output_type": "stream",
          "name": "stdout",
          "text": [
            "Epoch 1/10\n",
            "782/782 [==============================] - 56s 68ms/step - loss: 0.5542 - accuracy: 0.6942\n",
            "Epoch 2/10\n",
            "782/782 [==============================] - 53s 68ms/step - loss: 0.4126 - accuracy: 0.8122\n",
            "Epoch 3/10\n",
            "782/782 [==============================] - 53s 68ms/step - loss: 0.3830 - accuracy: 0.8257\n",
            "Epoch 4/10\n",
            "782/782 [==============================] - 55s 70ms/step - loss: 0.3648 - accuracy: 0.8354\n",
            "Epoch 5/10\n",
            "782/782 [==============================] - 55s 70ms/step - loss: 0.3481 - accuracy: 0.8426\n",
            "Epoch 6/10\n",
            "782/782 [==============================] - 55s 70ms/step - loss: 0.3311 - accuracy: 0.8500\n",
            "Epoch 7/10\n",
            "782/782 [==============================] - 55s 70ms/step - loss: 0.3125 - accuracy: 0.8585\n",
            "Epoch 8/10\n",
            "782/782 [==============================] - 55s 70ms/step - loss: 0.2953 - accuracy: 0.8650\n",
            "Epoch 9/10\n",
            "782/782 [==============================] - 55s 71ms/step - loss: 0.2738 - accuracy: 0.8738\n",
            "Epoch 10/10\n",
            "782/782 [==============================] - 55s 70ms/step - loss: 0.2552 - accuracy: 0.8813\n"
          ]
        },
        {
          "output_type": "execute_result",
          "data": {
            "text/plain": [
              "<keras.callbacks.History at 0x7fadb06d95d0>"
            ]
          },
          "metadata": {},
          "execution_count": 12
        }
      ]
    },
    {
      "cell_type": "code",
      "source": [
        "model.evaluate(test_data)"
      ],
      "metadata": {
        "id": "K5rh0MTcI58q",
        "colab": {
          "base_uri": "https://localhost:8080/"
        },
        "outputId": "1dfd4613-a79e-4e4f-e3ce-8c3c2d67d5e5"
      },
      "execution_count": 13,
      "outputs": [
        {
          "output_type": "stream",
          "name": "stdout",
          "text": [
            "782/782 [==============================] - 17s 22ms/step - loss: 0.5901 - accuracy: 0.7817\n"
          ]
        },
        {
          "output_type": "execute_result",
          "data": {
            "text/plain": [
              "[0.5901255011558533, 0.7816799879074097]"
            ]
          },
          "metadata": {},
          "execution_count": 13
        }
      ]
    },
    {
      "cell_type": "code",
      "source": [
        "model.predict(['I loved the movie'])"
      ],
      "metadata": {
        "id": "qifned7gKW-s",
        "colab": {
          "base_uri": "https://localhost:8080/"
        },
        "outputId": "7c71ceaa-68ea-4130-c7e7-cfd2c6ecf08b"
      },
      "execution_count": 14,
      "outputs": [
        {
          "output_type": "execute_result",
          "data": {
            "text/plain": [
              "array([[0.96383846]], dtype=float32)"
            ]
          },
          "metadata": {},
          "execution_count": 14
        }
      ]
    },
    {
      "cell_type": "code",
      "source": [
        ""
      ],
      "metadata": {
        "id": "pVmRD_oMKjtK"
      },
      "execution_count": null,
      "outputs": []
    }
  ]
}