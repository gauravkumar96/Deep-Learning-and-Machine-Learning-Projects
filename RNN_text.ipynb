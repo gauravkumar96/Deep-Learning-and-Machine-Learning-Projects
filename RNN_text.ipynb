{
  "nbformat": 4,
  "nbformat_minor": 0,
  "metadata": {
    "colab": {
      "name": "RNN_text.ipynb",
      "provenance": []
    },
    "kernelspec": {
      "name": "python3",
      "display_name": "Python 3"
    },
    "language_info": {
      "name": "python"
    }
  },
  "cells": [
    {
      "cell_type": "code",
      "execution_count": 1,
      "metadata": {
        "colab": {
          "base_uri": "https://localhost:8080/"
        },
        "id": "OfusrupmDS8-",
        "outputId": "8566752e-22b6-4e62-be87-133dae28fd3b"
      },
      "outputs": [
        {
          "output_type": "stream",
          "name": "stdout",
          "text": [
            "--2022-08-04 22:51:21--  https://www.dropbox.com/s/pdhwlpi2yeie0ol/movie-dataset.zip\n",
            "Resolving www.dropbox.com (www.dropbox.com)... 162.125.85.18, 2620:100:6017:18::a27d:212\n",
            "Connecting to www.dropbox.com (www.dropbox.com)|162.125.85.18|:443... connected.\n",
            "HTTP request sent, awaiting response... 301 Moved Permanently\n",
            "Location: /s/raw/pdhwlpi2yeie0ol/movie-dataset.zip [following]\n",
            "--2022-08-04 22:51:22--  https://www.dropbox.com/s/raw/pdhwlpi2yeie0ol/movie-dataset.zip\n",
            "Reusing existing connection to www.dropbox.com:443.\n",
            "HTTP request sent, awaiting response... 302 Found\n",
            "Location: https://uc0cedfbbe9674b565e6200add86.dl.dropboxusercontent.com/cd/0/inline/BqaCujSOcsA9n69_UevoWGObCk4ugJ330GKuK4_CxUbtTCOulMNXvP6NHIL7DjSMyiLk-kxp_nHGZxBBc-TwmUphwHuRINnWR6ES9zf6Ugpv4vblajSAyLeS8zjfcdsA0XUKTyErBtJUfKUju7FngNhHOijaBGLjPznsJ7YZvAK2Fw/file# [following]\n",
            "--2022-08-04 22:51:22--  https://uc0cedfbbe9674b565e6200add86.dl.dropboxusercontent.com/cd/0/inline/BqaCujSOcsA9n69_UevoWGObCk4ugJ330GKuK4_CxUbtTCOulMNXvP6NHIL7DjSMyiLk-kxp_nHGZxBBc-TwmUphwHuRINnWR6ES9zf6Ugpv4vblajSAyLeS8zjfcdsA0XUKTyErBtJUfKUju7FngNhHOijaBGLjPznsJ7YZvAK2Fw/file\n",
            "Resolving uc0cedfbbe9674b565e6200add86.dl.dropboxusercontent.com (uc0cedfbbe9674b565e6200add86.dl.dropboxusercontent.com)... 162.125.85.15, 2620:100:6017:15::a27d:20f\n",
            "Connecting to uc0cedfbbe9674b565e6200add86.dl.dropboxusercontent.com (uc0cedfbbe9674b565e6200add86.dl.dropboxusercontent.com)|162.125.85.15|:443... connected.\n",
            "HTTP request sent, awaiting response... 302 Found\n",
            "Location: /cd/0/inline2/BqZar8K3rtw2-mPElTxh6JZNDXavM4XkyABFYerBDzLKXj_rNyk212pTQGFTjetTp51S-t9hJdqw-_vcTjOJ-KZtzOabYxDkROLpnZBtyYBFalfGy_AR_V-wjvXm2bg_lsGP0RkhtVHcpQkgv2VudtR_HB5UrFucIjM_8lxza8R5JCxY3VETHePf_AmBph6lIL5No9ZDMQFmDQ7FA3eMNM8rSa5tiAD3Xe-iHsXEOHUL7NaMmFNkRd4zL43t8cRQu-uHPK95rV1IBX0vKgV9Zotx8vtabWkkYTEKYaVQvpJTqncGq-lV5p3I6czOTTZjXrpw8F84l7vKXBSWywoJAQOdMN8ETH6h5kf5YvETHzE6pdiqJK1AjLi52a1P17fKoB-0d8hUSoAk-orIz15jJHLgzOT1MTKDOKjVFuAEd2VPjg/file [following]\n",
            "--2022-08-04 22:51:22--  https://uc0cedfbbe9674b565e6200add86.dl.dropboxusercontent.com/cd/0/inline2/BqZar8K3rtw2-mPElTxh6JZNDXavM4XkyABFYerBDzLKXj_rNyk212pTQGFTjetTp51S-t9hJdqw-_vcTjOJ-KZtzOabYxDkROLpnZBtyYBFalfGy_AR_V-wjvXm2bg_lsGP0RkhtVHcpQkgv2VudtR_HB5UrFucIjM_8lxza8R5JCxY3VETHePf_AmBph6lIL5No9ZDMQFmDQ7FA3eMNM8rSa5tiAD3Xe-iHsXEOHUL7NaMmFNkRd4zL43t8cRQu-uHPK95rV1IBX0vKgV9Zotx8vtabWkkYTEKYaVQvpJTqncGq-lV5p3I6czOTTZjXrpw8F84l7vKXBSWywoJAQOdMN8ETH6h5kf5YvETHzE6pdiqJK1AjLi52a1P17fKoB-0d8hUSoAk-orIz15jJHLgzOT1MTKDOKjVFuAEd2VPjg/file\n",
            "Reusing existing connection to uc0cedfbbe9674b565e6200add86.dl.dropboxusercontent.com:443.\n",
            "HTTP request sent, awaiting response... 200 OK\n",
            "Length: 62951389 (60M) [application/zip]\n",
            "Saving to: ‘movie-dataset.zip’\n",
            "\n",
            "movie-dataset.zip   100%[===================>]  60.03M  15.5MB/s    in 5.0s    \n",
            "\n",
            "2022-08-04 22:51:28 (12.0 MB/s) - ‘movie-dataset.zip’ saved [62951389/62951389]\n",
            "\n"
          ]
        }
      ],
      "source": [
        "!wget https://www.dropbox.com/s/pdhwlpi2yeie0ol/movie-dataset.zip"
      ]
    },
    {
      "cell_type": "code",
      "source": [
        "!unzip -q 'movie-dataset.zip'"
      ],
      "metadata": {
        "id": "HbZnaimSDjzr"
      },
      "execution_count": 5,
      "outputs": []
    },
    {
      "cell_type": "code",
      "source": [
        "from tensorflow.keras.preprocessing import text_dataset_from_directory\n",
        "from tensorflow.strings import regex_replace\n",
        "from tensorflow.keras.layers.experimental.preprocessing import TextVectorization\n",
        "from tensorflow.keras.models import Sequential\n",
        "from tensorflow.keras import Input\n",
        "from tensorflow.keras.layers import Dense, RNN, SimpleRNNCell, Embedding, Dropout"
      ],
      "metadata": {
        "id": "vOFbIHACD2Hh"
      },
      "execution_count": 6,
      "outputs": []
    },
    {
      "cell_type": "code",
      "source": [
        "def prepareData(dir):\n",
        "  data = text_dataset_from_directory(dir)\n",
        "  return data.map(\n",
        "      lambda text, label: (regex_replace(text, '<br />',' '), label),)"
      ],
      "metadata": {
        "id": "vW0LKkQGE9kq"
      },
      "execution_count": 7,
      "outputs": []
    },
    {
      "cell_type": "code",
      "source": [
        "train_data = prepareData('movie-reviews-dataset/train')\n",
        "test_data = prepareData('movie-reviews-dataset/test')\n",
        "\n",
        "for text_batch, label_batch in train_data.take(1):\n",
        "  print(text_batch.numpy()[0])\n",
        "  print(label_batch.numpy()[0])"
      ],
      "metadata": {
        "colab": {
          "base_uri": "https://localhost:8080/"
        },
        "id": "hYpb2GqSFhCq",
        "outputId": "768f1840-2f16-44cb-d906-ba846c905ca0"
      },
      "execution_count": 8,
      "outputs": [
        {
          "output_type": "stream",
          "name": "stdout",
          "text": [
            "Found 25000 files belonging to 2 classes.\n",
            "Found 25000 files belonging to 2 classes.\n",
            "b\"Poor Ivy: Though to the manner born, she had the bad luck to marry a charming wastrel (Richard Ney). As the movie is set in the 20s or 30s, when rigid Victorian ideas of class were starting to fray at the edges, this uncertain status vexes her unduly. The Gretorexes (for so they are called) don't know where their next shilling is coming from but there are yachting parties and fancy-dress balls in posh pleasaunces aplenty to tempt her. When Ivy (Joan Fontaine) makes the acquaintance of a wealthy older gent (Herbert Marshall, who must have been born middle-aged), she sets one of her extravant chapeaux for him. Luckily, one of the beaux she still strings along (Patric Knowles) is a physician whose consulting rooms provide a cache of poison, with which she bids her hubby farewell. The fact that it implicates Knowles doesn't phase her a bit, even as the hours trickle by until he should be hanged by the neck until dead. The turning of the plot depends on police inspector Sir Cedric Hardwicke; Knowles' mother (the redoubtable Lucile Watson); and Knowles' loyal housekeeper (Una O'Connor). Sam Wood adds some subtle touches to this well above average melodrama; Fontaine's luminous face supplies the rest.\"\n",
            "1\n"
          ]
        }
      ]
    },
    {
      "cell_type": "code",
      "source": [
        "model = Sequential()\n",
        "model.add(Input(shape=(1,),dtype='string'))"
      ],
      "metadata": {
        "id": "gTokF0QjGEdp"
      },
      "execution_count": 9,
      "outputs": []
    },
    {
      "cell_type": "code",
      "source": [
        "max_tokens = 1000\n",
        "max_len = 100\n",
        "\n",
        "vectorized_layer = TextVectorization(max_tokens = max_tokens,\n",
        "                                     output_mode = 'int',\n",
        "                                     output_sequence_length = max_len,)\n",
        "\n",
        "\n",
        "\n"
      ],
      "metadata": {
        "id": "SWS9r_FCGbcR"
      },
      "execution_count": 10,
      "outputs": []
    },
    {
      "cell_type": "code",
      "source": [
        "train_text = train_data.map(lambda text, label : text)\n",
        "vectorized_layer.adapt(train_text)\n",
        "\n",
        "model.add(vectorized_layer)"
      ],
      "metadata": {
        "id": "mxKt9rE6GzeB"
      },
      "execution_count": 13,
      "outputs": []
    },
    {
      "cell_type": "code",
      "source": [
        "# creating an embedding layer\n",
        "\n",
        "model.add(Embedding(max_tokens + 1, 128))\n",
        "rnn = RNN(SimpleRNNCell(64), return_sequences = False, return_state = False) # can change it from here\n",
        "model.add(rnn)\n",
        "model.add(Dense(64, activation = 'relu'))\n",
        "model.add(Dense(1, activation = 'sigmoid'))"
      ],
      "metadata": {
        "id": "uxRH_TDEHgOp"
      },
      "execution_count": 14,
      "outputs": []
    },
    {
      "cell_type": "code",
      "source": [
        "model.compile(loss = 'binary_crossentropy', optimizer = 'adam', metrics = ['accuracy'])"
      ],
      "metadata": {
        "id": "7t71QjXUIN6r"
      },
      "execution_count": 15,
      "outputs": []
    },
    {
      "cell_type": "code",
      "source": [
        "model.fit(train_data, epochs = 10)"
      ],
      "metadata": {
        "colab": {
          "base_uri": "https://localhost:8080/"
        },
        "id": "5rRhtAOpIuj6",
        "outputId": "aee57111-ab05-4011-c674-8846d3825441"
      },
      "execution_count": 16,
      "outputs": [
        {
          "output_type": "stream",
          "name": "stdout",
          "text": [
            "Epoch 1/10\n",
            "782/782 [==============================] - 32s 39ms/step - loss: 0.6947 - accuracy: 0.5199\n",
            "Epoch 2/10\n",
            "782/782 [==============================] - 31s 40ms/step - loss: 0.6706 - accuracy: 0.5822\n",
            "Epoch 3/10\n",
            "782/782 [==============================] - 30s 39ms/step - loss: 0.6377 - accuracy: 0.6365\n",
            "Epoch 4/10\n",
            "782/782 [==============================] - 32s 40ms/step - loss: 0.6430 - accuracy: 0.6244\n",
            "Epoch 5/10\n",
            "782/782 [==============================] - 31s 39ms/step - loss: 0.6683 - accuracy: 0.5905\n",
            "Epoch 6/10\n",
            "782/782 [==============================] - 31s 40ms/step - loss: 0.6687 - accuracy: 0.5816\n",
            "Epoch 7/10\n",
            "782/782 [==============================] - 30s 38ms/step - loss: 0.6787 - accuracy: 0.5613\n",
            "Epoch 8/10\n",
            "782/782 [==============================] - 30s 38ms/step - loss: 0.6423 - accuracy: 0.6406\n",
            "Epoch 9/10\n",
            "782/782 [==============================] - 31s 40ms/step - loss: 0.6347 - accuracy: 0.6511\n",
            "Epoch 10/10\n",
            "782/782 [==============================] - 30s 39ms/step - loss: 0.6505 - accuracy: 0.6112\n"
          ]
        },
        {
          "output_type": "execute_result",
          "data": {
            "text/plain": [
              "<keras.callbacks.History at 0x7f889bdf7710>"
            ]
          },
          "metadata": {},
          "execution_count": 16
        }
      ]
    },
    {
      "cell_type": "code",
      "source": [
        "model.evaluate(test_data)"
      ],
      "metadata": {
        "colab": {
          "base_uri": "https://localhost:8080/"
        },
        "id": "K5rh0MTcI58q",
        "outputId": "7c1b7f28-9e4e-4f98-9300-aced7ede0665"
      },
      "execution_count": 17,
      "outputs": [
        {
          "output_type": "stream",
          "name": "stdout",
          "text": [
            "782/782 [==============================] - 13s 17ms/step - loss: 0.6350 - accuracy: 0.6505\n"
          ]
        },
        {
          "output_type": "execute_result",
          "data": {
            "text/plain": [
              "[0.6349641680717468, 0.6505200266838074]"
            ]
          },
          "metadata": {},
          "execution_count": 17
        }
      ]
    },
    {
      "cell_type": "code",
      "source": [
        "model.predict(['I loved the movie'])"
      ],
      "metadata": {
        "colab": {
          "base_uri": "https://localhost:8080/"
        },
        "id": "qifned7gKW-s",
        "outputId": "30f65c0f-951f-4cf7-b08c-22f8549ede85"
      },
      "execution_count": 20,
      "outputs": [
        {
          "output_type": "execute_result",
          "data": {
            "text/plain": [
              "array([[0.828953]], dtype=float32)"
            ]
          },
          "metadata": {},
          "execution_count": 20
        }
      ]
    },
    {
      "cell_type": "code",
      "source": [
        ""
      ],
      "metadata": {
        "id": "pVmRD_oMKjtK"
      },
      "execution_count": null,
      "outputs": []
    }
  ]
}