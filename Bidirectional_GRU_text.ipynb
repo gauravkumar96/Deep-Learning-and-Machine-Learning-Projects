{
  "cells": [
    {
      "cell_type": "code",
      "execution_count": 1,
      "metadata": {
        "colab": {
          "base_uri": "https://localhost:8080/"
        },
        "id": "OfusrupmDS8-",
        "outputId": "a31e47b2-1893-48b9-cb8e-4b75dc6ef141"
      },
      "outputs": [
        {
          "name": "stdout",
          "output_type": "stream",
          "text": [
            "--2022-08-04 23:56:32--  https://www.dropbox.com/s/pdhwlpi2yeie0ol/movie-dataset.zip\n",
            "Resolving www.dropbox.com (www.dropbox.com)... 162.125.5.18, 2620:100:601d:18::a27d:512\n",
            "Connecting to www.dropbox.com (www.dropbox.com)|162.125.5.18|:443... connected.\n",
            "HTTP request sent, awaiting response... 301 Moved Permanently\n",
            "Location: /s/raw/pdhwlpi2yeie0ol/movie-dataset.zip [following]\n",
            "--2022-08-04 23:56:33--  https://www.dropbox.com/s/raw/pdhwlpi2yeie0ol/movie-dataset.zip\n",
            "Reusing existing connection to www.dropbox.com:443.\n",
            "HTTP request sent, awaiting response... 302 Found\n",
            "Location: https://ucbc9f646c99b6c93812574f8969.dl.dropboxusercontent.com/cd/0/inline/BqZV3Mbn8Ca_3oU5_671onKPYIMGdhfHcemH5r61KJJaixIwFsnvBVzYyXnGIH7XvcrOf_2cZOZYePyyfDTnSIPS_MKGGIcksTxsHDMGY7gos2S_sgeEdWGwrA5BlRraA0U2KZLuTboWi38St5nO08Q87Lm_T1S1NN60y6Kl5ByUxA/file# [following]\n",
            "--2022-08-04 23:56:33--  https://ucbc9f646c99b6c93812574f8969.dl.dropboxusercontent.com/cd/0/inline/BqZV3Mbn8Ca_3oU5_671onKPYIMGdhfHcemH5r61KJJaixIwFsnvBVzYyXnGIH7XvcrOf_2cZOZYePyyfDTnSIPS_MKGGIcksTxsHDMGY7gos2S_sgeEdWGwrA5BlRraA0U2KZLuTboWi38St5nO08Q87Lm_T1S1NN60y6Kl5ByUxA/file\n",
            "Resolving ucbc9f646c99b6c93812574f8969.dl.dropboxusercontent.com (ucbc9f646c99b6c93812574f8969.dl.dropboxusercontent.com)... 162.125.5.15, 2620:100:601d:15::a27d:50f\n",
            "Connecting to ucbc9f646c99b6c93812574f8969.dl.dropboxusercontent.com (ucbc9f646c99b6c93812574f8969.dl.dropboxusercontent.com)|162.125.5.15|:443... connected.\n",
            "HTTP request sent, awaiting response... 302 Found\n",
            "Location: /cd/0/inline2/BqYDtHpXOstrLqxFx8yQ4LRJVP90ApS4AIhmzeyAnBeNPiMSEDXKlZvbgIpaY_IGwyM4dvezDU8EzQCDnyIbl6FJwh7hwZ32nkWdNH_GSxGw8VWY48Y9xd40UYNKlUTgt5EprZjli5ToaA5DZHsCsKpkOWPk5K9XFIsWiUEitDvfEJgM7eA8-DtyZBymSaRcBzSeZOAQ2DfXxVIbzWERoQrdpvguG_nIZHxS9Qcmw05JLnpZApw6NTeFddgp6bQx9z3A9iPRSNADqBszU9iGSa-b6Htv5_-zItzCSswk9m37cmTwlhm50JmMvHIzNbCaoY70JrtGVyQ5lgEFf1xrGIeR_19VlCxvFQH-hUEYY7oI_Ce_32am-bga2w9gFykjETHv-Br8ezreyzWkdjlQ8_r6xmvOAhk-Yum7zRpIfsDNeg/file [following]\n",
            "--2022-08-04 23:56:33--  https://ucbc9f646c99b6c93812574f8969.dl.dropboxusercontent.com/cd/0/inline2/BqYDtHpXOstrLqxFx8yQ4LRJVP90ApS4AIhmzeyAnBeNPiMSEDXKlZvbgIpaY_IGwyM4dvezDU8EzQCDnyIbl6FJwh7hwZ32nkWdNH_GSxGw8VWY48Y9xd40UYNKlUTgt5EprZjli5ToaA5DZHsCsKpkOWPk5K9XFIsWiUEitDvfEJgM7eA8-DtyZBymSaRcBzSeZOAQ2DfXxVIbzWERoQrdpvguG_nIZHxS9Qcmw05JLnpZApw6NTeFddgp6bQx9z3A9iPRSNADqBszU9iGSa-b6Htv5_-zItzCSswk9m37cmTwlhm50JmMvHIzNbCaoY70JrtGVyQ5lgEFf1xrGIeR_19VlCxvFQH-hUEYY7oI_Ce_32am-bga2w9gFykjETHv-Br8ezreyzWkdjlQ8_r6xmvOAhk-Yum7zRpIfsDNeg/file\n",
            "Reusing existing connection to ucbc9f646c99b6c93812574f8969.dl.dropboxusercontent.com:443.\n",
            "HTTP request sent, awaiting response... 200 OK\n",
            "Length: 62951389 (60M) [application/zip]\n",
            "Saving to: ‘movie-dataset.zip’\n",
            "\n",
            "movie-dataset.zip   100%[===================>]  60.03M  42.2MB/s    in 1.4s    \n",
            "\n",
            "2022-08-04 23:56:35 (42.2 MB/s) - ‘movie-dataset.zip’ saved [62951389/62951389]\n",
            "\n"
          ]
        }
      ],
      "source": [
        "!wget https://www.dropbox.com/s/pdhwlpi2yeie0ol/movie-dataset.zip"
      ]
    },
    {
      "cell_type": "code",
      "execution_count": 2,
      "metadata": {
        "id": "HbZnaimSDjzr"
      },
      "outputs": [],
      "source": [
        "!unzip -q 'movie-dataset.zip'"
      ]
    },
    {
      "cell_type": "code",
      "execution_count": 3,
      "metadata": {
        "id": "vOFbIHACD2Hh"
      },
      "outputs": [],
      "source": [
        "from tensorflow.keras.preprocessing import text_dataset_from_directory\n",
        "from tensorflow.strings import regex_replace\n",
        "from tensorflow.keras.layers.experimental.preprocessing import TextVectorization\n",
        "from tensorflow.keras.models import Sequential\n",
        "from tensorflow.keras import Input\n",
        "from tensorflow.keras.layers import Dense, LSTM, SimpleRNNCell, Embedding, Dropout, GRU, Bidirectional"
      ]
    },
    {
      "cell_type": "code",
      "execution_count": 4,
      "metadata": {
        "id": "vW0LKkQGE9kq"
      },
      "outputs": [],
      "source": [
        "def prepareData(dir):\n",
        "  data = text_dataset_from_directory(dir)\n",
        "  return data.map(\n",
        "      lambda text, label: (regex_replace(text, '<br />',' '), label),)"
      ]
    },
    {
      "cell_type": "code",
      "execution_count": 5,
      "metadata": {
        "colab": {
          "base_uri": "https://localhost:8080/"
        },
        "id": "hYpb2GqSFhCq",
        "outputId": "c3c819d4-fa72-44fc-bee6-f676c89d6b6d"
      },
      "outputs": [
        {
          "name": "stdout",
          "output_type": "stream",
          "text": [
            "Found 25000 files belonging to 2 classes.\n",
            "Found 25000 files belonging to 2 classes.\n",
            "b\"This episode introduced the Holodeck to the TNG world. The Jarada have to be contacted and a precise greeting must be delivered or it would greatly insult them. A tired Picard decides to take a trip into the Holodeck and a wonderful adventure begins. The settings are superb and almost movie like. Alas, the Jarada probe sent shortly thereafter damages the holodeck and all it's safety devices stop working. Picard and now guests must outwit the mobsters of gangland 40s America and return to the Jarada rendezvous. Picard greets the Jarada correctly and a new day dawns between Humanity and the Jarada. This gem of a first season episode set the holodeck for many interesting and unusual adventures to be had there\"\n",
            "1\n"
          ]
        }
      ],
      "source": [
        "train_data = prepareData('movie-reviews-dataset/train')\n",
        "test_data = prepareData('movie-reviews-dataset/test')\n",
        "\n",
        "for text_batch, label_batch in train_data.take(1):\n",
        "  print(text_batch.numpy()[0])\n",
        "  print(label_batch.numpy()[0])"
      ]
    },
    {
      "cell_type": "code",
      "execution_count": 6,
      "metadata": {
        "id": "gTokF0QjGEdp"
      },
      "outputs": [],
      "source": [
        "model = Sequential()\n",
        "model.add(Input(shape=(1,),dtype='string'))"
      ]
    },
    {
      "cell_type": "code",
      "execution_count": 7,
      "metadata": {
        "id": "SWS9r_FCGbcR"
      },
      "outputs": [],
      "source": [
        "max_tokens = 1000\n",
        "max_len = 100\n",
        "\n",
        "vectorized_layer = TextVectorization(max_tokens = max_tokens,\n",
        "                                     output_mode = 'int',\n",
        "                                     output_sequence_length = max_len,)\n",
        "\n",
        "\n",
        "\n"
      ]
    },
    {
      "cell_type": "code",
      "execution_count": 8,
      "metadata": {
        "id": "mxKt9rE6GzeB"
      },
      "outputs": [],
      "source": [
        "train_text = train_data.map(lambda text, label : text)\n",
        "vectorized_layer.adapt(train_text)\n",
        "\n",
        "model.add(vectorized_layer)"
      ]
    },
    {
      "cell_type": "code",
      "execution_count": 9,
      "metadata": {
        "id": "uxRH_TDEHgOp"
      },
      "outputs": [],
      "source": [
        "# creating an embedding layer\n",
        "\n",
        "model.add(Embedding(max_tokens + 1, 128))\n",
        "# rnn = RNN(SimpleRNNCell(64), return_sequences = False, return_state = False) # can change it from here\n",
        "model.add(Bidirectional(GRU(64)))\n",
        "model.add(Dense(64, activation = 'relu'))\n",
        "model.add(Dense(1, activation = 'sigmoid'))"
      ]
    },
    {
      "cell_type": "code",
      "execution_count": 10,
      "metadata": {
        "id": "7t71QjXUIN6r"
      },
      "outputs": [],
      "source": [
        "model.compile(loss = 'binary_crossentropy', optimizer = 'adam', metrics = ['accuracy'])"
      ]
    },
    {
      "cell_type": "code",
      "execution_count": 11,
      "metadata": {
        "colab": {
          "base_uri": "https://localhost:8080/"
        },
        "id": "5rRhtAOpIuj6",
        "outputId": "282b8af5-c31f-45ce-aaff-eb5118e749de"
      },
      "outputs": [
        {
          "name": "stdout",
          "output_type": "stream",
          "text": [
            "Epoch 1/10\n",
            "782/782 [==============================] - 99s 122ms/step - loss: 0.5442 - accuracy: 0.7132\n",
            "Epoch 2/10\n",
            "782/782 [==============================] - 94s 121ms/step - loss: 0.4269 - accuracy: 0.8023\n",
            "Epoch 3/10\n",
            "782/782 [==============================] - 96s 122ms/step - loss: 0.3893 - accuracy: 0.8229\n",
            "Epoch 4/10\n",
            "782/782 [==============================] - 96s 122ms/step - loss: 0.3547 - accuracy: 0.8420\n",
            "Epoch 5/10\n",
            "782/782 [==============================] - 97s 124ms/step - loss: 0.3264 - accuracy: 0.8549\n",
            "Epoch 6/10\n",
            "782/782 [==============================] - 96s 123ms/step - loss: 0.2976 - accuracy: 0.8677\n",
            "Epoch 7/10\n",
            "782/782 [==============================] - 98s 125ms/step - loss: 0.2698 - accuracy: 0.8806\n",
            "Epoch 8/10\n",
            "782/782 [==============================] - 97s 124ms/step - loss: 0.2443 - accuracy: 0.8929\n",
            "Epoch 9/10\n",
            "782/782 [==============================] - 97s 124ms/step - loss: 0.2142 - accuracy: 0.9071\n",
            "Epoch 10/10\n",
            "782/782 [==============================] - 98s 125ms/step - loss: 0.1866 - accuracy: 0.9197\n"
          ]
        },
        {
          "data": {
            "text/plain": [
              "<keras.callbacks.History at 0x7fdd66ca3e10>"
            ]
          },
          "execution_count": 11,
          "metadata": {},
          "output_type": "execute_result"
        }
      ],
      "source": [
        "model.fit(train_data, epochs = 10)"
      ]
    },
    {
      "cell_type": "code",
      "execution_count": 12,
      "metadata": {
        "colab": {
          "base_uri": "https://localhost:8080/"
        },
        "id": "K5rh0MTcI58q",
        "outputId": "05a67b7b-aedd-4a37-81ff-7016bc678ad4"
      },
      "outputs": [
        {
          "name": "stdout",
          "output_type": "stream",
          "text": [
            "782/782 [==============================] - 28s 35ms/step - loss: 0.7817 - accuracy: 0.7658\n"
          ]
        },
        {
          "data": {
            "text/plain": [
              "[0.7817400693893433, 0.7658399939537048]"
            ]
          },
          "execution_count": 12,
          "metadata": {},
          "output_type": "execute_result"
        }
      ],
      "source": [
        "model.evaluate(test_data)"
      ]
    },
    {
      "cell_type": "code",
      "execution_count": 13,
      "metadata": {
        "colab": {
          "base_uri": "https://localhost:8080/"
        },
        "id": "qifned7gKW-s",
        "outputId": "c39d8942-6f4a-4e53-8c06-57fd11110b8d"
      },
      "outputs": [
        {
          "data": {
            "text/plain": [
              "array([[0.9963293]], dtype=float32)"
            ]
          },
          "execution_count": 13,
          "metadata": {},
          "output_type": "execute_result"
        }
      ],
      "source": [
        "model.predict(['I loved the movie'])"
      ]
    },
    {
      "cell_type": "code",
      "execution_count": 13,
      "metadata": {
        "id": "pVmRD_oMKjtK"
      },
      "outputs": [],
      "source": []
    }
  ],
  "metadata": {
    "colab": {
      "name": "Bidirectional GRU_text.ipynb",
      "provenance": []
    },
    "kernelspec": {
      "display_name": "Python 3.10.4 64-bit",
      "language": "python",
      "name": "python3"
    },
    "language_info": {
      "name": "python",
      "version": "3.10.4"
    },
    "vscode": {
      "interpreter": {
        "hash": "107d7b120a5b68773a87d4067e673630b35702e55ebab3138143d08b1c4d7cbc"
      }
    }
  },
  "nbformat": 4,
  "nbformat_minor": 0
}
