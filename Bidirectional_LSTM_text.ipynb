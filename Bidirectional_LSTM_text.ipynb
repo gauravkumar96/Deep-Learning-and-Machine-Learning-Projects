{
  "nbformat": 4,
  "nbformat_minor": 0,
  "metadata": {
    "colab": {
      "name": "Bidirectional LSTM_text.ipynb",
      "provenance": []
    },
    "kernelspec": {
      "name": "python3",
      "display_name": "Python 3"
    },
    "language_info": {
      "name": "python"
    }
  },
  "cells": [
    {
      "cell_type": "code",
      "execution_count": 1,
      "metadata": {
        "colab": {
          "base_uri": "https://localhost:8080/"
        },
        "id": "OfusrupmDS8-",
        "outputId": "9258d3f7-78bc-4b9e-a409-aac05e78bd52"
      },
      "outputs": [
        {
          "output_type": "stream",
          "name": "stdout",
          "text": [
            "--2022-08-04 23:54:05--  https://www.dropbox.com/s/pdhwlpi2yeie0ol/movie-dataset.zip\n",
            "Resolving www.dropbox.com (www.dropbox.com)... 162.125.85.18, 2620:100:6017:18::a27d:212\n",
            "Connecting to www.dropbox.com (www.dropbox.com)|162.125.85.18|:443... connected.\n",
            "HTTP request sent, awaiting response... 301 Moved Permanently\n",
            "Location: /s/raw/pdhwlpi2yeie0ol/movie-dataset.zip [following]\n",
            "--2022-08-04 23:54:06--  https://www.dropbox.com/s/raw/pdhwlpi2yeie0ol/movie-dataset.zip\n",
            "Reusing existing connection to www.dropbox.com:443.\n",
            "HTTP request sent, awaiting response... 302 Found\n",
            "Location: https://uc492224ee82fac8352045d133db.dl.dropboxusercontent.com/cd/0/inline/BqaKHWm_UUp2JfOQdykvuQ0jKDpmuEqmDbAAH4XCMWPJNU_jAE_x1VdE-i2JgDKj2Isq4zJyDm1QBjykMaPTm76vQ7K-pPXdMvmzmGzAFTNDHEEshb19sMudxDHdxfGC0qKqccY5855De-93m8fI8SA-Ha5wcVXhfI3noJfrNVlOCw/file# [following]\n",
            "--2022-08-04 23:54:06--  https://uc492224ee82fac8352045d133db.dl.dropboxusercontent.com/cd/0/inline/BqaKHWm_UUp2JfOQdykvuQ0jKDpmuEqmDbAAH4XCMWPJNU_jAE_x1VdE-i2JgDKj2Isq4zJyDm1QBjykMaPTm76vQ7K-pPXdMvmzmGzAFTNDHEEshb19sMudxDHdxfGC0qKqccY5855De-93m8fI8SA-Ha5wcVXhfI3noJfrNVlOCw/file\n",
            "Resolving uc492224ee82fac8352045d133db.dl.dropboxusercontent.com (uc492224ee82fac8352045d133db.dl.dropboxusercontent.com)... 162.125.85.15, 2620:100:6017:15::a27d:20f\n",
            "Connecting to uc492224ee82fac8352045d133db.dl.dropboxusercontent.com (uc492224ee82fac8352045d133db.dl.dropboxusercontent.com)|162.125.85.15|:443... connected.\n",
            "HTTP request sent, awaiting response... 302 Found\n",
            "Location: /cd/0/inline2/Bqb_BivY2q1etD6lKM-Rr_eUJm8DsTkzbpcCJybzaDgaGaq2ID-uOKNmdUIDKnHPxGRn7WuZZqhfNFUKnsyKB0O5vFvOFOMtdCs35pZUdsy2oomswxj3WO-PphRFeTAI44CgtVZI-1cOFZQ9hdLiDXNOYAXq4RrNQunXbYzrnBEfXgUpPqZwZN88EpaBH2Jf_eb4rnYrKTNgv7eKJV6-mGt1V712TFH52vmjMcI78opC0j2Dpt6tuHM5l5Rj6NGhjEGVB2y-eNFFSZVGxqqY0HPCK9i1svOUGE3WkGyEDTAKgGgsUVsO5FYlnIDGDIW5a1_J-1CuI0DELi2n1nlWkLJEd4DI4MYWZNe9GKEMIZHVWg8KcBvKQzkvsoT3_TxEMeiDTQYlrTSBu2EPe8b1cfPty0c9z13_IB6O6Cj_ZSJrGg/file [following]\n",
            "--2022-08-04 23:54:06--  https://uc492224ee82fac8352045d133db.dl.dropboxusercontent.com/cd/0/inline2/Bqb_BivY2q1etD6lKM-Rr_eUJm8DsTkzbpcCJybzaDgaGaq2ID-uOKNmdUIDKnHPxGRn7WuZZqhfNFUKnsyKB0O5vFvOFOMtdCs35pZUdsy2oomswxj3WO-PphRFeTAI44CgtVZI-1cOFZQ9hdLiDXNOYAXq4RrNQunXbYzrnBEfXgUpPqZwZN88EpaBH2Jf_eb4rnYrKTNgv7eKJV6-mGt1V712TFH52vmjMcI78opC0j2Dpt6tuHM5l5Rj6NGhjEGVB2y-eNFFSZVGxqqY0HPCK9i1svOUGE3WkGyEDTAKgGgsUVsO5FYlnIDGDIW5a1_J-1CuI0DELi2n1nlWkLJEd4DI4MYWZNe9GKEMIZHVWg8KcBvKQzkvsoT3_TxEMeiDTQYlrTSBu2EPe8b1cfPty0c9z13_IB6O6Cj_ZSJrGg/file\n",
            "Reusing existing connection to uc492224ee82fac8352045d133db.dl.dropboxusercontent.com:443.\n",
            "HTTP request sent, awaiting response... 200 OK\n",
            "Length: 62951389 (60M) [application/zip]\n",
            "Saving to: ‘movie-dataset.zip’\n",
            "\n",
            "movie-dataset.zip   100%[===================>]  60.03M  15.3MB/s    in 4.9s    \n",
            "\n",
            "2022-08-04 23:54:12 (12.2 MB/s) - ‘movie-dataset.zip’ saved [62951389/62951389]\n",
            "\n"
          ]
        }
      ],
      "source": [
        "!wget https://www.dropbox.com/s/pdhwlpi2yeie0ol/movie-dataset.zip"
      ]
    },
    {
      "cell_type": "code",
      "source": [
        "!unzip -q 'movie-dataset.zip'"
      ],
      "metadata": {
        "id": "HbZnaimSDjzr"
      },
      "execution_count": 2,
      "outputs": []
    },
    {
      "cell_type": "code",
      "source": [
        "from tensorflow.keras.preprocessing import text_dataset_from_directory\n",
        "from tensorflow.strings import regex_replace\n",
        "from tensorflow.keras.layers.experimental.preprocessing import TextVectorization\n",
        "from tensorflow.keras.models import Sequential\n",
        "from tensorflow.keras import Input\n",
        "from tensorflow.keras.layers import Dense, LSTM, SimpleRNNCell, Embedding, Dropout, Bidirectional"
      ],
      "metadata": {
        "id": "vOFbIHACD2Hh"
      },
      "execution_count": 4,
      "outputs": []
    },
    {
      "cell_type": "code",
      "source": [
        "def prepareData(dir):\n",
        "  data = text_dataset_from_directory(dir)\n",
        "  return data.map(\n",
        "      lambda text, label: (regex_replace(text, '<br />',' '), label),)"
      ],
      "metadata": {
        "id": "vW0LKkQGE9kq"
      },
      "execution_count": 5,
      "outputs": []
    },
    {
      "cell_type": "code",
      "source": [
        "train_data = prepareData('movie-reviews-dataset/train')\n",
        "test_data = prepareData('movie-reviews-dataset/test')\n",
        "\n",
        "for text_batch, label_batch in train_data.take(1):\n",
        "  print(text_batch.numpy()[0])\n",
        "  print(label_batch.numpy()[0])"
      ],
      "metadata": {
        "colab": {
          "base_uri": "https://localhost:8080/"
        },
        "id": "hYpb2GqSFhCq",
        "outputId": "e7f67e5f-e508-485e-b6d4-a74892288a83"
      },
      "execution_count": 6,
      "outputs": [
        {
          "output_type": "stream",
          "name": "stdout",
          "text": [
            "Found 25000 files belonging to 2 classes.\n",
            "Found 25000 files belonging to 2 classes.\n",
            "b\"I found this film to be the usual French slap in America's face. The camera, all too often, focuses on fat people, on sloppy homes and on tacky rural areas. While the narration seems to sympathize with and admire the small town folks who are introduced to the viewer, the cinematography exploits and demeans them. There were, undoubtedly, thin people to be seen in Glencoe and neat, organized homes, but Malle chose to show us the worst of what was there to be seen.   I can only hope that some American filmmakers will go to France to reveal to the American public its worst elements. I can assure you, as a frequent visitor to France, that all is not well there. Foreign immigrants are not readily assimilated, thus creating severe social inequities. But Americans are not eager to unmask the French for their prejudice toward their own compatriots and their envy toward the U.S., so we're not likely to see films on the subject.\"\n",
            "1\n"
          ]
        }
      ]
    },
    {
      "cell_type": "code",
      "source": [
        "model = Sequential()\n",
        "model.add(Input(shape=(1,),dtype='string'))"
      ],
      "metadata": {
        "id": "gTokF0QjGEdp"
      },
      "execution_count": 7,
      "outputs": []
    },
    {
      "cell_type": "code",
      "source": [
        "max_tokens = 1000\n",
        "max_len = 100\n",
        "\n",
        "vectorized_layer = TextVectorization(max_tokens = max_tokens,\n",
        "                                     output_mode = 'int',\n",
        "                                     output_sequence_length = max_len,)\n",
        "\n",
        "\n",
        "\n"
      ],
      "metadata": {
        "id": "SWS9r_FCGbcR"
      },
      "execution_count": 8,
      "outputs": []
    },
    {
      "cell_type": "code",
      "source": [
        "train_text = train_data.map(lambda text, label : text)\n",
        "vectorized_layer.adapt(train_text)\n",
        "\n",
        "model.add(vectorized_layer)"
      ],
      "metadata": {
        "id": "mxKt9rE6GzeB"
      },
      "execution_count": 9,
      "outputs": []
    },
    {
      "cell_type": "code",
      "source": [
        "# creating an embedding layer\n",
        "\n",
        "model.add(Embedding(max_tokens + 1, 128))\n",
        "# rnn = RNN(SimpleRNNCell(64), return_sequences = False, return_state = False) # can change it from here\n",
        "model.add(Bidirectional(LSTM(64)))\n",
        "model.add(Dense(64, activation = 'relu'))\n",
        "model.add(Dense(1, activation = 'sigmoid'))"
      ],
      "metadata": {
        "id": "uxRH_TDEHgOp"
      },
      "execution_count": 10,
      "outputs": []
    },
    {
      "cell_type": "code",
      "source": [
        "model.compile(loss = 'binary_crossentropy', optimizer = 'adam', metrics = ['accuracy'])"
      ],
      "metadata": {
        "id": "7t71QjXUIN6r"
      },
      "execution_count": 11,
      "outputs": []
    },
    {
      "cell_type": "code",
      "source": [
        "model.fit(train_data, epochs = 10)"
      ],
      "metadata": {
        "colab": {
          "base_uri": "https://localhost:8080/"
        },
        "id": "5rRhtAOpIuj6",
        "outputId": "a13238a3-9437-4075-881b-8d351fa4c8eb"
      },
      "execution_count": 12,
      "outputs": [
        {
          "output_type": "stream",
          "name": "stdout",
          "text": [
            "Epoch 1/10\n",
            "782/782 [==============================] - 108s 133ms/step - loss: 0.5117 - accuracy: 0.7360\n",
            "Epoch 2/10\n",
            "782/782 [==============================] - 106s 135ms/step - loss: 0.4214 - accuracy: 0.8045\n",
            "Epoch 3/10\n",
            "782/782 [==============================] - 107s 137ms/step - loss: 0.3920 - accuracy: 0.8220\n",
            "Epoch 4/10\n",
            "782/782 [==============================] - 108s 139ms/step - loss: 0.3617 - accuracy: 0.8398\n",
            "Epoch 5/10\n",
            "782/782 [==============================] - 109s 139ms/step - loss: 0.3290 - accuracy: 0.8563\n",
            "Epoch 6/10\n",
            "782/782 [==============================] - 107s 136ms/step - loss: 0.2979 - accuracy: 0.8745\n",
            "Epoch 7/10\n",
            "782/782 [==============================] - 109s 139ms/step - loss: 0.2685 - accuracy: 0.8860\n",
            "Epoch 8/10\n",
            "782/782 [==============================] - 107s 137ms/step - loss: 0.2410 - accuracy: 0.9002\n",
            "Epoch 9/10\n",
            "782/782 [==============================] - 108s 138ms/step - loss: 0.2193 - accuracy: 0.9086\n",
            "Epoch 10/10\n",
            "782/782 [==============================] - 107s 137ms/step - loss: 0.2017 - accuracy: 0.9172\n"
          ]
        },
        {
          "output_type": "execute_result",
          "data": {
            "text/plain": [
              "<keras.callbacks.History at 0x7f6e01734390>"
            ]
          },
          "metadata": {},
          "execution_count": 12
        }
      ]
    },
    {
      "cell_type": "code",
      "source": [
        "model.evaluate(test_data)"
      ],
      "metadata": {
        "id": "K5rh0MTcI58q",
        "colab": {
          "base_uri": "https://localhost:8080/"
        },
        "outputId": "1fa87a29-43ae-4441-e916-58289efea7cf"
      },
      "execution_count": 13,
      "outputs": [
        {
          "output_type": "stream",
          "name": "stdout",
          "text": [
            "782/782 [==============================] - 31s 38ms/step - loss: 0.7303 - accuracy: 0.7685\n"
          ]
        },
        {
          "output_type": "execute_result",
          "data": {
            "text/plain": [
              "[0.7302866578102112, 0.7685199975967407]"
            ]
          },
          "metadata": {},
          "execution_count": 13
        }
      ]
    },
    {
      "cell_type": "code",
      "source": [
        "model.predict(['I loved the movie'])"
      ],
      "metadata": {
        "id": "qifned7gKW-s",
        "colab": {
          "base_uri": "https://localhost:8080/"
        },
        "outputId": "04f6ef8c-586b-4530-f87c-808ea911be61"
      },
      "execution_count": 14,
      "outputs": [
        {
          "output_type": "execute_result",
          "data": {
            "text/plain": [
              "array([[0.99407613]], dtype=float32)"
            ]
          },
          "metadata": {},
          "execution_count": 14
        }
      ]
    },
    {
      "cell_type": "code",
      "source": [
        ""
      ],
      "metadata": {
        "id": "pVmRD_oMKjtK"
      },
      "execution_count": null,
      "outputs": []
    }
  ]
}