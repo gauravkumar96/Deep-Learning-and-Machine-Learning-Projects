{
  "nbformat": 4,
  "nbformat_minor": 0,
  "metadata": {
    "colab": {
      "name": "LSTM_text.ipynb",
      "provenance": []
    },
    "kernelspec": {
      "name": "python3",
      "display_name": "Python 3"
    },
    "language_info": {
      "name": "python"
    }
  },
  "cells": [
    {
      "cell_type": "code",
      "execution_count": 1,
      "metadata": {
        "colab": {
          "base_uri": "https://localhost:8080/"
        },
        "id": "OfusrupmDS8-",
        "outputId": "11530edc-3459-4427-e446-4995b48da601"
      },
      "outputs": [
        {
          "output_type": "stream",
          "name": "stdout",
          "text": [
            "--2022-08-04 23:40:32--  https://www.dropbox.com/s/pdhwlpi2yeie0ol/movie-dataset.zip\n",
            "Resolving www.dropbox.com (www.dropbox.com)... 162.125.4.18, 2620:100:6016:18::a27d:112\n",
            "Connecting to www.dropbox.com (www.dropbox.com)|162.125.4.18|:443... connected.\n",
            "HTTP request sent, awaiting response... 301 Moved Permanently\n",
            "Location: /s/raw/pdhwlpi2yeie0ol/movie-dataset.zip [following]\n",
            "--2022-08-04 23:40:32--  https://www.dropbox.com/s/raw/pdhwlpi2yeie0ol/movie-dataset.zip\n",
            "Reusing existing connection to www.dropbox.com:443.\n",
            "HTTP request sent, awaiting response... 302 Found\n",
            "Location: https://uc51ffd96cef39a5c57173e6ab71.dl.dropboxusercontent.com/cd/0/inline/BqYXblJvFelwzjcqRMYXCM9W5790e_YSZuD7WQsnlA64vumTi402ZPvVUjmxbZMaXFHElBN5OcDbT_A66v6faP8nH_l0jsiPP2HLpNLy4neIMTbuB46jgXoaC7dUeb3tkrGHJ1HPUk6hdEKlo3wM90nA4FfYq0FKG_9ufe1om1vxlg/file# [following]\n",
            "--2022-08-04 23:40:33--  https://uc51ffd96cef39a5c57173e6ab71.dl.dropboxusercontent.com/cd/0/inline/BqYXblJvFelwzjcqRMYXCM9W5790e_YSZuD7WQsnlA64vumTi402ZPvVUjmxbZMaXFHElBN5OcDbT_A66v6faP8nH_l0jsiPP2HLpNLy4neIMTbuB46jgXoaC7dUeb3tkrGHJ1HPUk6hdEKlo3wM90nA4FfYq0FKG_9ufe1om1vxlg/file\n",
            "Resolving uc51ffd96cef39a5c57173e6ab71.dl.dropboxusercontent.com (uc51ffd96cef39a5c57173e6ab71.dl.dropboxusercontent.com)... 162.125.1.15, 2620:100:6016:15::a27d:10f\n",
            "Connecting to uc51ffd96cef39a5c57173e6ab71.dl.dropboxusercontent.com (uc51ffd96cef39a5c57173e6ab71.dl.dropboxusercontent.com)|162.125.1.15|:443... connected.\n",
            "HTTP request sent, awaiting response... 302 Found\n",
            "Location: /cd/0/inline2/BqZX1_ANi_qhXaNpuGY2ITC4mud8VFsu4ePK9A7FhqS9knkthVYPpvUlNLs5MAJtkXiWvjulRxx42_fBhSFUy6VXtV6wf4e2fPbpnq9YRB5hU_p0unOyLJHbZCuiZXThfiO8Gmrj1f7pz3iU1i5f2WtS6Qd0S0AlF1L3GQdHtYuxSfZKKKQwJzglg6MyUo0FxAaXqdHJuYCJtN5w8b4TDCJvvnub4_vvCCHAjK_UIfjoMt5pEn12enqrWdhN7vzqjZh7TffefPiuce4oqbVPEdTILId6nA4QXyMcWM-9xQj3Qkmq3KIrPzCpbSejPbDO1FwC9bgmvRweMnx0WqWLxt5wwfQ_K5HPek2UU8MGcov30Nrlz3QZEcN7pBqk-t6VzxNO7kYSMCHuJW3F8thKO-n8Li3eqdjXOLcNaXrcllUhFA/file [following]\n",
            "--2022-08-04 23:40:33--  https://uc51ffd96cef39a5c57173e6ab71.dl.dropboxusercontent.com/cd/0/inline2/BqZX1_ANi_qhXaNpuGY2ITC4mud8VFsu4ePK9A7FhqS9knkthVYPpvUlNLs5MAJtkXiWvjulRxx42_fBhSFUy6VXtV6wf4e2fPbpnq9YRB5hU_p0unOyLJHbZCuiZXThfiO8Gmrj1f7pz3iU1i5f2WtS6Qd0S0AlF1L3GQdHtYuxSfZKKKQwJzglg6MyUo0FxAaXqdHJuYCJtN5w8b4TDCJvvnub4_vvCCHAjK_UIfjoMt5pEn12enqrWdhN7vzqjZh7TffefPiuce4oqbVPEdTILId6nA4QXyMcWM-9xQj3Qkmq3KIrPzCpbSejPbDO1FwC9bgmvRweMnx0WqWLxt5wwfQ_K5HPek2UU8MGcov30Nrlz3QZEcN7pBqk-t6VzxNO7kYSMCHuJW3F8thKO-n8Li3eqdjXOLcNaXrcllUhFA/file\n",
            "Reusing existing connection to uc51ffd96cef39a5c57173e6ab71.dl.dropboxusercontent.com:443.\n",
            "HTTP request sent, awaiting response... 200 OK\n",
            "Length: 62951389 (60M) [application/zip]\n",
            "Saving to: ‘movie-dataset.zip’\n",
            "\n",
            "movie-dataset.zip   100%[===================>]  60.03M  57.9MB/s    in 1.0s    \n",
            "\n",
            "2022-08-04 23:40:34 (57.9 MB/s) - ‘movie-dataset.zip’ saved [62951389/62951389]\n",
            "\n"
          ]
        }
      ],
      "source": [
        "!wget https://www.dropbox.com/s/pdhwlpi2yeie0ol/movie-dataset.zip"
      ]
    },
    {
      "cell_type": "code",
      "source": [
        "!unzip -q 'movie-dataset.zip'"
      ],
      "metadata": {
        "id": "HbZnaimSDjzr"
      },
      "execution_count": 2,
      "outputs": []
    },
    {
      "cell_type": "code",
      "source": [
        "from tensorflow.keras.preprocessing import text_dataset_from_directory\n",
        "from tensorflow.strings import regex_replace\n",
        "from tensorflow.keras.layers.experimental.preprocessing import TextVectorization\n",
        "from tensorflow.keras.models import Sequential\n",
        "from tensorflow.keras import Input\n",
        "from tensorflow.keras.layers import Dense, LSTM, SimpleRNNCell, Embedding, Dropout"
      ],
      "metadata": {
        "id": "vOFbIHACD2Hh"
      },
      "execution_count": 3,
      "outputs": []
    },
    {
      "cell_type": "code",
      "source": [
        "def prepareData(dir):\n",
        "  data = text_dataset_from_directory(dir)\n",
        "  return data.map(\n",
        "      lambda text, label: (regex_replace(text, '<br />',' '), label),)"
      ],
      "metadata": {
        "id": "vW0LKkQGE9kq"
      },
      "execution_count": 4,
      "outputs": []
    },
    {
      "cell_type": "code",
      "source": [
        "train_data = prepareData('movie-reviews-dataset/train')\n",
        "test_data = prepareData('movie-reviews-dataset/test')\n",
        "\n",
        "for text_batch, label_batch in train_data.take(1):\n",
        "  print(text_batch.numpy()[0])\n",
        "  print(label_batch.numpy()[0])"
      ],
      "metadata": {
        "colab": {
          "base_uri": "https://localhost:8080/"
        },
        "id": "hYpb2GqSFhCq",
        "outputId": "b307a399-07ee-4564-baae-24fe1f1d51ee"
      },
      "execution_count": 5,
      "outputs": [
        {
          "output_type": "stream",
          "name": "stdout",
          "text": [
            "Found 25000 files belonging to 2 classes.\n",
            "Found 25000 files belonging to 2 classes.\n",
            "b\"Meryl Streep is such a genius. Well, at least as an actress. I know she's been made fun of for doing a lot of roles with accents, but she nails the accent every time. Her performance as Lindy Chamberlain was inspiring. Mrs. Chamberlain, as portrayed here, was not particularly likable, nor all that smart. But that just makes Streep's work all the more remarkable. I think she is worth all 10 or so of her Oscar nominations. About the film, well, there were a couple of interesting things. I don't know much about Australia, but the theme of religious bigotry among the general public played a big part in the story. I had largely missed this when I first saw the film some years ago, but it came through loud and clear yesterday. And it seems the Australian press is just as accomplished at misery-inducing pursuit and overkill as their American colleagues. A pretty good film. A bit different. Grade: B\"\n",
            "1\n"
          ]
        }
      ]
    },
    {
      "cell_type": "code",
      "source": [
        "model = Sequential()\n",
        "model.add(Input(shape=(1,),dtype='string'))"
      ],
      "metadata": {
        "id": "gTokF0QjGEdp"
      },
      "execution_count": 6,
      "outputs": []
    },
    {
      "cell_type": "code",
      "source": [
        "max_tokens = 1000\n",
        "max_len = 100\n",
        "\n",
        "vectorized_layer = TextVectorization(max_tokens = max_tokens,\n",
        "                                     output_mode = 'int',\n",
        "                                     output_sequence_length = max_len,)\n",
        "\n",
        "\n",
        "\n"
      ],
      "metadata": {
        "id": "SWS9r_FCGbcR"
      },
      "execution_count": 7,
      "outputs": []
    },
    {
      "cell_type": "code",
      "source": [
        "train_text = train_data.map(lambda text, label : text)\n",
        "vectorized_layer.adapt(train_text)\n",
        "\n",
        "model.add(vectorized_layer)"
      ],
      "metadata": {
        "id": "mxKt9rE6GzeB"
      },
      "execution_count": 8,
      "outputs": []
    },
    {
      "cell_type": "code",
      "source": [
        "# creating an embedding layer\n",
        "\n",
        "model.add(Embedding(max_tokens + 1, 128))\n",
        "# rnn = RNN(SimpleRNNCell(64), return_sequences = False, return_state = False) # can change it from here\n",
        "model.add(LSTM(64))\n",
        "model.add(Dense(64, activation = 'relu'))\n",
        "model.add(Dense(1, activation = 'sigmoid'))"
      ],
      "metadata": {
        "id": "uxRH_TDEHgOp"
      },
      "execution_count": 9,
      "outputs": []
    },
    {
      "cell_type": "code",
      "source": [
        "model.compile(loss = 'binary_crossentropy', optimizer = 'adam', metrics = ['accuracy'])"
      ],
      "metadata": {
        "id": "7t71QjXUIN6r"
      },
      "execution_count": 10,
      "outputs": []
    },
    {
      "cell_type": "code",
      "source": [
        "model.fit(train_data, epochs = 10)"
      ],
      "metadata": {
        "colab": {
          "base_uri": "https://localhost:8080/"
        },
        "id": "5rRhtAOpIuj6",
        "outputId": "7ea31dd6-0f4f-422d-98ad-d850f9dd1cf2"
      },
      "execution_count": 11,
      "outputs": [
        {
          "output_type": "stream",
          "name": "stdout",
          "text": [
            "Epoch 1/10\n",
            "782/782 [==============================] - 78s 95ms/step - loss: 0.5428 - accuracy: 0.7173\n",
            "Epoch 2/10\n",
            "782/782 [==============================] - 74s 94ms/step - loss: 0.4367 - accuracy: 0.8000\n",
            "Epoch 3/10\n",
            "782/782 [==============================] - 73s 93ms/step - loss: 0.4026 - accuracy: 0.8172\n",
            "Epoch 4/10\n",
            "782/782 [==============================] - 74s 95ms/step - loss: 0.3763 - accuracy: 0.8345\n",
            "Epoch 5/10\n",
            "782/782 [==============================] - 72s 92ms/step - loss: 0.3592 - accuracy: 0.8422\n",
            "Epoch 6/10\n",
            "782/782 [==============================] - 75s 96ms/step - loss: 0.3399 - accuracy: 0.8544\n",
            "Epoch 7/10\n",
            "782/782 [==============================] - 73s 93ms/step - loss: 0.3255 - accuracy: 0.8620\n",
            "Epoch 8/10\n",
            "782/782 [==============================] - 75s 96ms/step - loss: 0.3130 - accuracy: 0.8678\n",
            "Epoch 9/10\n",
            "782/782 [==============================] - 75s 95ms/step - loss: 0.3084 - accuracy: 0.8691\n",
            "Epoch 10/10\n",
            "782/782 [==============================] - 74s 94ms/step - loss: 0.2918 - accuracy: 0.8753\n"
          ]
        },
        {
          "output_type": "execute_result",
          "data": {
            "text/plain": [
              "<keras.callbacks.History at 0x7fb91cd12150>"
            ]
          },
          "metadata": {},
          "execution_count": 11
        }
      ]
    },
    {
      "cell_type": "code",
      "source": [
        "model.evaluate(test_data)"
      ],
      "metadata": {
        "colab": {
          "base_uri": "https://localhost:8080/"
        },
        "id": "K5rh0MTcI58q",
        "outputId": "98673520-fedd-49c4-e8ba-ddeff2b07989"
      },
      "execution_count": 12,
      "outputs": [
        {
          "output_type": "stream",
          "name": "stdout",
          "text": [
            "782/782 [==============================] - 26s 32ms/step - loss: 0.5664 - accuracy: 0.7798\n"
          ]
        },
        {
          "output_type": "execute_result",
          "data": {
            "text/plain": [
              "[0.5663663148880005, 0.7797999978065491]"
            ]
          },
          "metadata": {},
          "execution_count": 12
        }
      ]
    },
    {
      "cell_type": "code",
      "source": [
        "model.predict(['I loved the movie'])"
      ],
      "metadata": {
        "colab": {
          "base_uri": "https://localhost:8080/"
        },
        "id": "qifned7gKW-s",
        "outputId": "a9ab0f9f-31ae-46d5-884c-bb71e657f441"
      },
      "execution_count": 13,
      "outputs": [
        {
          "output_type": "execute_result",
          "data": {
            "text/plain": [
              "array([[0.95213044]], dtype=float32)"
            ]
          },
          "metadata": {},
          "execution_count": 13
        }
      ]
    },
    {
      "cell_type": "code",
      "source": [
        ""
      ],
      "metadata": {
        "id": "pVmRD_oMKjtK"
      },
      "execution_count": null,
      "outputs": []
    }
  ]
}